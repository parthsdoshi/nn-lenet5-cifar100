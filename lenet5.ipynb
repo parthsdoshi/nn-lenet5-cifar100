{
  "nbformat": 4,
  "nbformat_minor": 0,
  "metadata": {
    "colab": {
      "name": "lenet5",
      "version": "0.3.2",
      "provenance": [],
      "collapsed_sections": [],
      "include_colab_link": true
    },
    "kernelspec": {
      "name": "python3",
      "display_name": "Python 3"
    },
    "accelerator": "GPU"
  },
  "cells": [
    {
      "cell_type": "markdown",
      "metadata": {
        "id": "view-in-github",
        "colab_type": "text"
      },
      "source": [
        "<a href=\"https://colab.research.google.com/github/parthsdoshi/nn-lenet5-cifar100/blob/master/lenet5.ipynb\" target=\"_parent\"><img src=\"https://colab.research.google.com/assets/colab-badge.svg\" alt=\"Open In Colab\"/></a>"
      ]
    },
    {
      "metadata": {
        "id": "YN6m9zrUIu6j",
        "colab_type": "code",
        "colab": {}
      },
      "cell_type": "code",
      "source": [
        "import torch\n",
        "import torch.nn as nn\n",
        "import torchvision as tv\n",
        "import torch.optim as O"
      ],
      "execution_count": 0,
      "outputs": []
    },
    {
      "metadata": {
        "id": "8QyjLvKjJbc9",
        "colab_type": "code",
        "colab": {
          "base_uri": "https://localhost:8080/",
          "height": 102
        },
        "outputId": "e5e05103-3140-4f5e-e35e-44aa88d1c015"
      },
      "cell_type": "code",
      "source": [
        "print(torch.cuda.is_available())\n",
        "print(torch.cuda.current_device())\n",
        "print(torch.cuda.device(0))\n",
        "print(torch.cuda.device_count())\n",
        "print(torch.cuda.get_device_name(0))"
      ],
      "execution_count": 2,
      "outputs": [
        {
          "output_type": "stream",
          "text": [
            "True\n",
            "0\n",
            "<torch.cuda.device object at 0x7f5f76e03780>\n",
            "1\n",
            "Tesla K80\n"
          ],
          "name": "stdout"
        }
      ]
    },
    {
      "metadata": {
        "id": "-WqOFoS-KaUl",
        "colab_type": "code",
        "outputId": "6a1a8fff-be69-4a04-b4a9-d707e5fffcc7",
        "colab": {
          "base_uri": "https://localhost:8080/",
          "height": 119
        }
      },
      "cell_type": "code",
      "source": [
        "device = torch.device('cuda' if torch.cuda.is_available() else 'cpu')\n",
        "print('Using device:', device)\n",
        "print()\n",
        "\n",
        "#Additional Info when using cuda\n",
        "if device.type == 'cuda':\n",
        "    print(torch.cuda.get_device_name(0))\n",
        "    print('Memory Usage:')\n",
        "    print('Allocated:', round(torch.cuda.memory_allocated(0)/1024**3,1), 'GB')\n",
        "    print('Cached:   ', round(torch.cuda.memory_cached(0)/1024**3,1), 'GB')"
      ],
      "execution_count": 3,
      "outputs": [
        {
          "output_type": "stream",
          "text": [
            "Using device: cuda\n",
            "\n",
            "Tesla K80\n",
            "Memory Usage:\n",
            "Allocated: 0.0 GB\n",
            "Cached:    0.0 GB\n"
          ],
          "name": "stdout"
        }
      ]
    },
    {
      "metadata": {
        "id": "uBkyGzeNDHrp",
        "colab_type": "code",
        "colab": {}
      },
      "cell_type": "code",
      "source": [
        "# flattens so we can go from conv layers to linear layers\n",
        "class Flatten(nn.Module):\n",
        "    def forward(self, x):\n",
        "        return x.view(x.shape[0], -1)"
      ],
      "execution_count": 0,
      "outputs": []
    },
    {
      "metadata": {
        "id": "4KuuFoDzKmSQ",
        "colab_type": "code",
        "colab": {}
      },
      "cell_type": "code",
      "source": [
        "def createLenet5(in_channels=3, init_padding=(0, 0), classes=10, activation=nn.ReLU):\n",
        "    lenet5 = nn.Sequential(\n",
        "        nn.Conv2d(in_channels, 6, kernel_size=(5, 5), padding=init_padding),\n",
        "        activation(),\n",
        "        nn.MaxPool2d(kernel_size=(2, 2), stride=(2, 2)),\n",
        "        nn.Conv2d(6, 16, kernel_size=(5, 5)),\n",
        "        activation(),\n",
        "        nn.MaxPool2d(kernel_size=(2, 2), stride=(2, 2)),\n",
        "        Flatten(),\n",
        "        nn.Linear(16*5*5, 120),\n",
        "        activation(),\n",
        "        nn.Linear(120, 84),\n",
        "        activation(),\n",
        "        nn.Linear(84, classes)\n",
        "    )\n",
        "\n",
        "    return lenet5"
      ],
      "execution_count": 0,
      "outputs": []
    },
    {
      "metadata": {
        "id": "gNCs4O0uMDFx",
        "colab_type": "code",
        "colab": {}
      },
      "cell_type": "code",
      "source": [
        "mnist = tv.datasets.MNIST\n",
        "cifar100 = tv.datasets.CIFAR100"
      ],
      "execution_count": 0,
      "outputs": []
    },
    {
      "metadata": {
        "id": "EoDMU5nBNgsw",
        "colab_type": "code",
        "colab": {}
      },
      "cell_type": "code",
      "source": [
        "train_batch = 1\n",
        "test_batch = 1000"
      ],
      "execution_count": 0,
      "outputs": []
    },
    {
      "metadata": {
        "id": "ALhzyIZHMNYx",
        "colab_type": "code",
        "colab": {}
      },
      "cell_type": "code",
      "source": [
        "mnist_train_loader = torch.utils.data.DataLoader(mnist('./mnist/train', train=True, download=True,\n",
        "                                                           transform=tv.transforms.Compose([\n",
        "                                                               tv.transforms.ToTensor()\n",
        "                                                           ])), batch_size=train_batch, shuffle=True)\n",
        "mnist_train_test_loader = torch.utils.data.DataLoader(mnist('./mnist/train', train=True, download=True,\n",
        "                                                           transform=tv.transforms.Compose([\n",
        "                                                               tv.transforms.ToTensor()\n",
        "                                                           ])), batch_size=test_batch, shuffle=True)\n",
        "mnist_test_loader = torch.utils.data.DataLoader(mnist('./mnist/test', train=False, download=True,\n",
        "                                                           transform=tv.transforms.Compose([\n",
        "                                                               tv.transforms.ToTensor()\n",
        "                                                           ])), batch_size=test_batch, shuffle=True)"
      ],
      "execution_count": 0,
      "outputs": []
    },
    {
      "metadata": {
        "id": "yI6-guA5ORQ3",
        "colab_type": "code",
        "outputId": "c3eb53b7-6fdd-4ce1-de12-68b5f6358fb0",
        "colab": {
          "base_uri": "https://localhost:8080/",
          "height": 326
        }
      },
      "cell_type": "code",
      "source": [
        "# looks like our datasets are stored in /content\n",
        "!cat /content/sample_data/README.md"
      ],
      "execution_count": 9,
      "outputs": [
        {
          "output_type": "stream",
          "text": [
            "This directory includes a few sample datasets to get you started.\n",
            "\n",
            "* `california_housing_data*.csv` is California housing data from the 1990 US\n",
            "  Census; more information is available at:\n",
            "  https://developers.google.com/machine-learning/crash-course/california-housing-data-description\n",
            "\n",
            "* `mnist_*.csv` is a small sample of the [MNIST\n",
            "  database](https://en.wikipedia.org/wiki/MNIST_database), which is described\n",
            "  at: http://yann.lecun.com/exdb/mnist/\n",
            "\n",
            "* `anscombe.json` contains a copy of [Anscombe's\n",
            " quartet](https://en.wikipedia.org/wiki/Anscombe%27s_quartet);\n",
            "  it was originally described in\n",
            "\n",
            "      Anscombe, F. J. (1973). 'Graphs in Statistical Analysis'. American Statistician. 27 (1): 17-21. JSTOR 2682899.\n",
            "\n",
            "  and our copy was prepared by the [vega_datasets library](https://github.com/altair-viz/vega_datasets/blob/4f67bdaad10f45e3549984e17e1b3088c731503d/vega_datasets/_data/anscombe.json).\n"
          ],
          "name": "stdout"
        }
      ]
    },
    {
      "metadata": {
        "id": "FJ4sMLouPQYr",
        "colab_type": "code",
        "outputId": "c13c2425-325a-4642-95fb-d17298a55560",
        "colab": {
          "base_uri": "https://localhost:8080/",
          "height": 51
        }
      },
      "cell_type": "code",
      "source": [
        "print(\"mnist\")\n",
        "print(f\"train size: {len(mnist_train_loader) * train_batch}\\ttest size: {len(mnist_test_loader) * test_batch}\")"
      ],
      "execution_count": 10,
      "outputs": [
        {
          "output_type": "stream",
          "text": [
            "mnist\n",
            "train size: 60000\ttest size: 10000\n"
          ],
          "name": "stdout"
        }
      ]
    },
    {
      "metadata": {
        "id": "8U_WoVFCQB0y",
        "colab_type": "code",
        "colab": {}
      },
      "cell_type": "code",
      "source": [
        "fc_mnist = nn.Sequential(\n",
        "    nn.Linear(28*28, 16),\n",
        "    nn.Sigmoid(),\n",
        "    nn.Linear(16, 16),\n",
        "    nn.Sigmoid(),\n",
        "    nn.Linear(16, 10)\n",
        ")"
      ],
      "execution_count": 0,
      "outputs": []
    },
    {
      "metadata": {
        "id": "SY-cfhKlDQ2v",
        "colab_type": "code",
        "colab": {}
      },
      "cell_type": "code",
      "source": [
        "lenet5_mnist = createLenet5(in_channels=1, init_padding=(2,2), classes=10)"
      ],
      "execution_count": 0,
      "outputs": []
    },
    {
      "metadata": {
        "id": "XViG_unSSpbl",
        "colab_type": "code",
        "outputId": "255550b2-e78c-4f3e-8ad1-d102b85a6525",
        "colab": {
          "base_uri": "https://localhost:8080/",
          "height": 374
        }
      },
      "cell_type": "code",
      "source": [
        "print(fc_mnist)\n",
        "print(lenet5_mnist)"
      ],
      "execution_count": 13,
      "outputs": [
        {
          "output_type": "stream",
          "text": [
            "Sequential(\n",
            "  (0): Linear(in_features=784, out_features=16, bias=True)\n",
            "  (1): Sigmoid()\n",
            "  (2): Linear(in_features=16, out_features=16, bias=True)\n",
            "  (3): Sigmoid()\n",
            "  (4): Linear(in_features=16, out_features=10, bias=True)\n",
            ")\n",
            "Sequential(\n",
            "  (0): Conv2d(1, 6, kernel_size=(5, 5), stride=(1, 1), padding=(2, 2))\n",
            "  (1): ReLU()\n",
            "  (2): MaxPool2d(kernel_size=(2, 2), stride=(2, 2), padding=0, dilation=1, ceil_mode=False)\n",
            "  (3): Conv2d(6, 16, kernel_size=(5, 5), stride=(1, 1))\n",
            "  (4): ReLU()\n",
            "  (5): MaxPool2d(kernel_size=(2, 2), stride=(2, 2), padding=0, dilation=1, ceil_mode=False)\n",
            "  (6): Flatten()\n",
            "  (7): Linear(in_features=400, out_features=120, bias=True)\n",
            "  (8): ReLU()\n",
            "  (9): Linear(in_features=120, out_features=84, bias=True)\n",
            "  (10): ReLU()\n",
            "  (11): Linear(in_features=84, out_features=10, bias=True)\n",
            ")\n"
          ],
          "name": "stdout"
        }
      ]
    },
    {
      "metadata": {
        "id": "hwZ5KP5cjC7O",
        "colab_type": "code",
        "colab": {}
      },
      "cell_type": "code",
      "source": [
        "# t is of dims N * 1 where N is the batch size\n",
        "# C should be the number of values for the column\n",
        "def oneHotEncodeOneCol(t, C=2):\n",
        "    N = t.shape[0]\n",
        "    onehot = torch.Tensor([\n",
        "        [0] * C\n",
        "    ] * N)\n",
        "    for i, v in enumerate(t):\n",
        "        onehot[i, v] = 1\n",
        "    \n",
        "    return onehot"
      ],
      "execution_count": 0,
      "outputs": []
    },
    {
      "metadata": {
        "id": "8DwZDTsg2FLC",
        "colab_type": "code",
        "colab": {}
      },
      "cell_type": "code",
      "source": [
        "validate_every = 2000"
      ],
      "execution_count": 0,
      "outputs": []
    },
    {
      "metadata": {
        "id": "0NSQaCLWglMV",
        "colab_type": "code",
        "outputId": "5a4bc804-e53e-4487-8fbe-88736bad333a",
        "colab": {
          "base_uri": "https://localhost:8080/",
          "height": 1666
        }
      },
      "cell_type": "code",
      "source": [
        "fc_mnist_dev = fc_mnist.to(device)\n",
        "opt = O.SGD(fc_mnist_dev.parameters(), lr=0.01)\n",
        "criterion = nn.CrossEntropyLoss(reduction=\"mean\")\n",
        "train_cross_entropy = []\n",
        "train_accuracy = []\n",
        "validation_cross_entropy = []\n",
        "validation_accuracy = []\n",
        "\n",
        "best_model_accuracy = 0\n",
        "\n",
        "for epoch in range(2):\n",
        "    n_correct = 0\n",
        "    n_total = 0\n",
        "    for i, batch in enumerate(mnist_train_loader):\n",
        "        x, labels = batch\n",
        "        x, labels = x.to(device), labels.to(device)\n",
        "        N = x.shape[0]\n",
        "        \n",
        "        x = x.view(N, -1)\n",
        "        \n",
        "        # training mode (for things like dropout)\n",
        "        fc_mnist_dev.train()\n",
        "        \n",
        "        # clear previous gradients\n",
        "        opt.zero_grad()\n",
        "        \n",
        "        y_hat = fc_mnist_dev(x)\n",
        "        loss = criterion(y_hat, labels)\n",
        "        loss.backward()\n",
        "        opt.step()\n",
        "        \n",
        "        train_cross_entropy.append(loss)\n",
        "        \n",
        "        n_correct += (torch.argmax(y_hat, dim=1) == labels).sum().item()\n",
        "        n_total += N\n",
        "        \n",
        "        # evaluation mode (e.g. adds dropped neurons back in)\n",
        "        fc_mnist_dev.eval()\n",
        "        if i % validate_every == 0:\n",
        "            n_val_correct = 0\n",
        "            n_val_total = 0\n",
        "            v_cross_entropy_sum = 0\n",
        "            \n",
        "            # don't calculate gradients here\n",
        "            with torch.no_grad():\n",
        "                for j, v_batch in enumerate(mnist_test_loader):\n",
        "                    v_x, v_labels = v_batch\n",
        "                    v_x, v_labels = v_x.to(device), v_labels.to(device)\n",
        "                    v_N = v_x.shape[0]\n",
        "                    v_x = v_x.view(v_N, -1)\n",
        "                    \n",
        "                    v_y_hat = fc_mnist_dev(v_x)\n",
        "                    v_loss = criterion(v_y_hat, v_labels)\n",
        "                    v_cross_entropy_sum += v_loss\n",
        "                    n_val_correct += (torch.argmax(v_y_hat, dim=1) == v_labels).sum().item()\n",
        "                    n_val_total += v_N\n",
        "\n",
        "            print(f\"[epoch {epoch + 1}, iteration {i}] \\t accuracy: {n_val_correct / n_val_total} \\t cross entropy: {v_cross_entropy_sum / n_val_total}\")\n",
        "            validation_accuracy.append(n_val_correct / n_val_total)\n",
        "            validation_cross_entropy.append(v_cross_entropy_sum / n_val_total)\n",
        "            if n_val_correct / n_val_total >= best_model_accuracy:\n",
        "                best_model_accuracy = n_val_correct / n_val_total\n",
        "                print(\"saving\")\n",
        "                torch.save(fc_mnist_dev.state_dict(), './fc_mnist')\n",
        "    \n",
        "    print(f\"epoch {epoch + 1} accumulated train accuracy: {n_correct / n_total}\")\n",
        "    train_accuracy.append(n_correct / n_total)"
      ],
      "execution_count": 16,
      "outputs": [
        {
          "output_type": "stream",
          "text": [
            "[epoch 1, iteration 0] \t accuracy: 0.0892 \t cross entropy: 0.002423797966912389\n",
            "saving\n",
            "[epoch 1, iteration 2000] \t accuracy: 0.1135 \t cross entropy: 0.002301551168784499\n",
            "saving\n",
            "[epoch 1, iteration 4000] \t accuracy: 0.181 \t cross entropy: 0.0022899473551660776\n",
            "saving\n",
            "[epoch 1, iteration 6000] \t accuracy: 0.3715 \t cross entropy: 0.002164327073842287\n",
            "saving\n",
            "[epoch 1, iteration 8000] \t accuracy: 0.3879 \t cross entropy: 0.0018770139431580901\n",
            "saving\n",
            "[epoch 1, iteration 10000] \t accuracy: 0.5244 \t cross entropy: 0.001557467388920486\n",
            "saving\n",
            "[epoch 1, iteration 12000] \t accuracy: 0.598 \t cross entropy: 0.0013382525648921728\n",
            "saving\n",
            "[epoch 1, iteration 14000] \t accuracy: 0.6803 \t cross entropy: 0.0011474546045064926\n",
            "saving\n",
            "[epoch 1, iteration 16000] \t accuracy: 0.7337 \t cross entropy: 0.0010023124050348997\n",
            "saving\n",
            "[epoch 1, iteration 18000] \t accuracy: 0.7665 \t cross entropy: 0.0008967500180006027\n",
            "saving\n",
            "[epoch 1, iteration 20000] \t accuracy: 0.7745 \t cross entropy: 0.0008305091760121286\n",
            "saving\n",
            "[epoch 1, iteration 22000] \t accuracy: 0.8055 \t cross entropy: 0.0007672329084016383\n",
            "saving\n",
            "[epoch 1, iteration 24000] \t accuracy: 0.8117 \t cross entropy: 0.0007090872386470437\n",
            "saving\n",
            "[epoch 1, iteration 26000] \t accuracy: 0.8337 \t cross entropy: 0.0006513417465612292\n",
            "saving\n",
            "[epoch 1, iteration 28000] \t accuracy: 0.8485 \t cross entropy: 0.0006077316356822848\n",
            "saving\n",
            "[epoch 1, iteration 30000] \t accuracy: 0.8565 \t cross entropy: 0.0005635794950649142\n",
            "saving\n",
            "[epoch 1, iteration 32000] \t accuracy: 0.8645 \t cross entropy: 0.0005350041319616139\n",
            "saving\n",
            "[epoch 1, iteration 34000] \t accuracy: 0.8671 \t cross entropy: 0.0005092209321446717\n",
            "saving\n",
            "[epoch 1, iteration 36000] \t accuracy: 0.879 \t cross entropy: 0.0004841104382649064\n",
            "saving\n",
            "[epoch 1, iteration 38000] \t accuracy: 0.8786 \t cross entropy: 0.0004720257711596787\n",
            "[epoch 1, iteration 40000] \t accuracy: 0.8828 \t cross entropy: 0.0004410267574712634\n",
            "saving\n",
            "[epoch 1, iteration 42000] \t accuracy: 0.8858 \t cross entropy: 0.00043375729001127183\n",
            "saving\n",
            "[epoch 1, iteration 44000] \t accuracy: 0.8837 \t cross entropy: 0.0004337310674600303\n",
            "[epoch 1, iteration 46000] \t accuracy: 0.8828 \t cross entropy: 0.00043463759357109666\n",
            "[epoch 1, iteration 48000] \t accuracy: 0.8854 \t cross entropy: 0.00041833429713733494\n",
            "[epoch 1, iteration 50000] \t accuracy: 0.8939 \t cross entropy: 0.000394550763303414\n",
            "saving\n",
            "[epoch 1, iteration 52000] \t accuracy: 0.8857 \t cross entropy: 0.00041010245331563056\n",
            "[epoch 1, iteration 54000] \t accuracy: 0.8924 \t cross entropy: 0.00039313602610491216\n",
            "[epoch 1, iteration 56000] \t accuracy: 0.8972 \t cross entropy: 0.0003720821696333587\n",
            "saving\n",
            "[epoch 1, iteration 58000] \t accuracy: 0.8901 \t cross entropy: 0.00039533342351205647\n",
            "epoch 1 accumulated train accuracy: 0.7292833333333333\n",
            "[epoch 2, iteration 0] \t accuracy: 0.8936 \t cross entropy: 0.00036926151369698346\n",
            "[epoch 2, iteration 2000] \t accuracy: 0.8986 \t cross entropy: 0.0003591148415580392\n",
            "saving\n",
            "[epoch 2, iteration 4000] \t accuracy: 0.9066 \t cross entropy: 0.00034377878182567656\n",
            "saving\n",
            "[epoch 2, iteration 6000] \t accuracy: 0.9 \t cross entropy: 0.00034957032767124474\n",
            "[epoch 2, iteration 8000] \t accuracy: 0.9032 \t cross entropy: 0.00033788071596063673\n",
            "[epoch 2, iteration 10000] \t accuracy: 0.9071 \t cross entropy: 0.0003379637491889298\n",
            "saving\n",
            "[epoch 2, iteration 12000] \t accuracy: 0.9015 \t cross entropy: 0.00033887161407619715\n",
            "[epoch 2, iteration 14000] \t accuracy: 0.905 \t cross entropy: 0.0003340885741636157\n",
            "[epoch 2, iteration 16000] \t accuracy: 0.9089 \t cross entropy: 0.0003242139355279505\n",
            "saving\n",
            "[epoch 2, iteration 18000] \t accuracy: 0.9048 \t cross entropy: 0.00032625935273244977\n",
            "[epoch 2, iteration 20000] \t accuracy: 0.9111 \t cross entropy: 0.00031966608366928995\n",
            "saving\n",
            "[epoch 2, iteration 22000] \t accuracy: 0.898 \t cross entropy: 0.00034595010220073164\n",
            "[epoch 2, iteration 24000] \t accuracy: 0.9101 \t cross entropy: 0.0003211938019376248\n",
            "[epoch 2, iteration 26000] \t accuracy: 0.9125 \t cross entropy: 0.00030686656828038394\n",
            "saving\n",
            "[epoch 2, iteration 28000] \t accuracy: 0.9043 \t cross entropy: 0.0003264529223088175\n",
            "[epoch 2, iteration 30000] \t accuracy: 0.9152 \t cross entropy: 0.0002956261159852147\n",
            "saving\n",
            "[epoch 2, iteration 32000] \t accuracy: 0.9174 \t cross entropy: 0.00029521199758164585\n",
            "saving\n",
            "[epoch 2, iteration 34000] \t accuracy: 0.9132 \t cross entropy: 0.0003027044585905969\n",
            "[epoch 2, iteration 36000] \t accuracy: 0.9161 \t cross entropy: 0.00028750114142894745\n",
            "[epoch 2, iteration 38000] \t accuracy: 0.9129 \t cross entropy: 0.0003008086932823062\n",
            "[epoch 2, iteration 40000] \t accuracy: 0.9202 \t cross entropy: 0.00028052451671101153\n",
            "saving\n",
            "[epoch 2, iteration 42000] \t accuracy: 0.9149 \t cross entropy: 0.00028884783387184143\n",
            "[epoch 2, iteration 44000] \t accuracy: 0.9162 \t cross entropy: 0.0002855166094377637\n",
            "[epoch 2, iteration 46000] \t accuracy: 0.921 \t cross entropy: 0.0002759101625997573\n",
            "saving\n",
            "[epoch 2, iteration 48000] \t accuracy: 0.9203 \t cross entropy: 0.00027362527907826006\n",
            "[epoch 2, iteration 50000] \t accuracy: 0.9188 \t cross entropy: 0.00027537113055586815\n",
            "[epoch 2, iteration 52000] \t accuracy: 0.9233 \t cross entropy: 0.0002698947791941464\n",
            "saving\n",
            "[epoch 2, iteration 54000] \t accuracy: 0.9219 \t cross entropy: 0.00027079053688794374\n",
            "[epoch 2, iteration 56000] \t accuracy: 0.9264 \t cross entropy: 0.00026896808412857354\n",
            "saving\n",
            "[epoch 2, iteration 58000] \t accuracy: 0.9219 \t cross entropy: 0.0002705081133171916\n",
            "epoch 2 accumulated train accuracy: 0.9135\n"
          ],
          "name": "stdout"
        }
      ]
    },
    {
      "metadata": {
        "id": "nRqNhuM3AVif",
        "colab_type": "code",
        "colab": {}
      },
      "cell_type": "code",
      "source": [
        "fc_train_cross_entropy = train_cross_entropy\n",
        "fc_train_accuracy = train_accuracy\n",
        "fc_validation_cross_entropy = validation_cross_entropy\n",
        "fc_validation_accuracy = validation_accuracy"
      ],
      "execution_count": 0,
      "outputs": []
    },
    {
      "metadata": {
        "id": "SzRdOjC0_ySD",
        "colab_type": "code",
        "outputId": "759c7daa-4852-4d98-a2e5-b47fc4750291",
        "colab": {
          "base_uri": "https://localhost:8080/",
          "height": 1394
        }
      },
      "cell_type": "code",
      "source": [
        "lenet5_mnist_dev = lenet5_mnist.to(device)\n",
        "opt = O.SGD(lenet5_mnist_dev.parameters(), lr=0.01)\n",
        "criterion = nn.CrossEntropyLoss(reduction=\"mean\")\n",
        "train_cross_entropy = []\n",
        "train_accuracy = []\n",
        "validation_cross_entropy = []\n",
        "validation_accuracy = []\n",
        "\n",
        "best_model_accuracy = 0\n",
        "\n",
        "for epoch in range(2):\n",
        "    n_correct = 0\n",
        "    n_total = 0\n",
        "    for i, batch in enumerate(mnist_train_loader):\n",
        "        x, labels = batch\n",
        "        x, labels = x.to(device), labels.to(device)\n",
        "        N = x.shape[0]\n",
        "        \n",
        "        # training mode (for things like dropout)\n",
        "        lenet5_mnist_dev.train()\n",
        "        \n",
        "        # clear previous gradients\n",
        "        opt.zero_grad()\n",
        "        \n",
        "        y_hat = lenet5_mnist_dev(x)\n",
        "        loss = criterion(y_hat, labels)\n",
        "        loss.backward()\n",
        "        opt.step()\n",
        "        \n",
        "        train_cross_entropy.append(loss)\n",
        "        \n",
        "        n_correct += (torch.argmax(y_hat, dim=1) == labels).sum().item()\n",
        "        n_total += N\n",
        "        \n",
        "        # evaluation mode (e.g. adds dropped neurons back in)\n",
        "        lenet5_mnist_dev.eval()\n",
        "        if i % validate_every == 0:\n",
        "            n_val_correct = 0\n",
        "            n_val_total = 0\n",
        "            v_cross_entropy_sum = 0\n",
        "            \n",
        "            # don't calculate gradients here\n",
        "            with torch.no_grad():\n",
        "                for j, v_batch in enumerate(mnist_test_loader):\n",
        "                    v_x, v_labels = v_batch\n",
        "                    v_x, v_labels = v_x.to(device), v_labels.to(device)\n",
        "                    v_N = v_x.shape[0]\n",
        "                    \n",
        "                    v_y_hat = lenet5_mnist_dev(v_x)\n",
        "                    v_loss = criterion(v_y_hat, v_labels)\n",
        "                    v_cross_entropy_sum += v_loss\n",
        "                    n_val_correct += (torch.argmax(v_y_hat, dim=1) == v_labels).sum().item()\n",
        "                    n_val_total += v_N\n",
        "\n",
        "            print(f\"[epoch {epoch + 1}, iteration {i}] \\t accuracy: {n_val_correct / n_val_total} \\t cross entropy: {v_cross_entropy_sum / n_val_total}\")\n",
        "            validation_accuracy.append(n_val_correct / n_val_total)\n",
        "            validation_cross_entropy.append(v_cross_entropy_sum / n_val_total)\n",
        "            if n_val_correct / n_val_total >= best_model_accuracy:\n",
        "                best_model_accuracy = n_val_correct / n_val_total\n",
        "                print(\"saving\")\n",
        "                torch.save(lenet5_mnist_dev.state_dict(), './lenet5_mnist')\n",
        "    \n",
        "    print(f\"epoch {epoch + 1} accumulated train accuracy: {n_correct / n_total}\")\n",
        "    train_accuracy.append(n_correct / n_total)"
      ],
      "execution_count": 18,
      "outputs": [
        {
          "output_type": "stream",
          "text": [
            "[epoch 1, iteration 0] \t accuracy: 0.111 \t cross entropy: 0.002304749097675085\n",
            "saving\n",
            "[epoch 1, iteration 2000] \t accuracy: 0.6454 \t cross entropy: 0.0010980804217979312\n",
            "saving\n",
            "[epoch 1, iteration 4000] \t accuracy: 0.9057 \t cross entropy: 0.0003122975758742541\n",
            "saving\n",
            "[epoch 1, iteration 6000] \t accuracy: 0.9305 \t cross entropy: 0.00022383779287338257\n",
            "saving\n",
            "[epoch 1, iteration 8000] \t accuracy: 0.9282 \t cross entropy: 0.00021841167472302914\n",
            "[epoch 1, iteration 10000] \t accuracy: 0.9543 \t cross entropy: 0.00014112141798250377\n",
            "saving\n",
            "[epoch 1, iteration 12000] \t accuracy: 0.9287 \t cross entropy: 0.0002348856214666739\n",
            "[epoch 1, iteration 14000] \t accuracy: 0.9628 \t cross entropy: 0.00011924622958758846\n",
            "saving\n",
            "[epoch 1, iteration 16000] \t accuracy: 0.9624 \t cross entropy: 0.0001337506400886923\n",
            "[epoch 1, iteration 18000] \t accuracy: 0.9663 \t cross entropy: 0.00011331064160913229\n",
            "saving\n",
            "[epoch 1, iteration 20000] \t accuracy: 0.9736 \t cross entropy: 8.813772001303732e-05\n",
            "saving\n",
            "[epoch 1, iteration 22000] \t accuracy: 0.9597 \t cross entropy: 0.00012824460281990469\n",
            "[epoch 1, iteration 24000] \t accuracy: 0.9657 \t cross entropy: 0.00012104682537028566\n",
            "[epoch 1, iteration 26000] \t accuracy: 0.948 \t cross entropy: 0.00017957790987566113\n",
            "[epoch 1, iteration 28000] \t accuracy: 0.9672 \t cross entropy: 0.00010561973613221198\n",
            "[epoch 1, iteration 30000] \t accuracy: 0.9764 \t cross entropy: 7.878385804360732e-05\n",
            "saving\n",
            "[epoch 1, iteration 32000] \t accuracy: 0.976 \t cross entropy: 8.106607856461778e-05\n",
            "[epoch 1, iteration 34000] \t accuracy: 0.9735 \t cross entropy: 8.745359809836373e-05\n",
            "[epoch 1, iteration 36000] \t accuracy: 0.9716 \t cross entropy: 9.658755152486265e-05\n",
            "[epoch 1, iteration 38000] \t accuracy: 0.9566 \t cross entropy: 0.00015134406567085534\n",
            "[epoch 1, iteration 40000] \t accuracy: 0.9764 \t cross entropy: 7.864164945203811e-05\n",
            "saving\n",
            "[epoch 1, iteration 42000] \t accuracy: 0.9749 \t cross entropy: 8.211199019569904e-05\n",
            "[epoch 1, iteration 44000] \t accuracy: 0.9787 \t cross entropy: 6.382270657923073e-05\n",
            "saving\n",
            "[epoch 1, iteration 46000] \t accuracy: 0.9784 \t cross entropy: 7.240244303829968e-05\n",
            "[epoch 1, iteration 48000] \t accuracy: 0.9802 \t cross entropy: 6.42281593172811e-05\n",
            "saving\n",
            "[epoch 1, iteration 50000] \t accuracy: 0.9795 \t cross entropy: 7.082945376168936e-05\n",
            "[epoch 1, iteration 52000] \t accuracy: 0.9615 \t cross entropy: 0.0001228097826242447\n",
            "[epoch 1, iteration 54000] \t accuracy: 0.9695 \t cross entropy: 0.00010341867891838774\n",
            "[epoch 1, iteration 56000] \t accuracy: 0.9744 \t cross entropy: 8.799239003565162e-05\n",
            "[epoch 1, iteration 58000] \t accuracy: 0.9793 \t cross entropy: 7.03859404893592e-05\n",
            "epoch 1 accumulated train accuracy: 0.9363\n",
            "[epoch 2, iteration 0] \t accuracy: 0.9738 \t cross entropy: 8.843887189868838e-05\n",
            "[epoch 2, iteration 2000] \t accuracy: 0.9793 \t cross entropy: 7.457623723894358e-05\n",
            "[epoch 2, iteration 4000] \t accuracy: 0.9812 \t cross entropy: 6.341873086057603e-05\n",
            "saving\n",
            "[epoch 2, iteration 6000] \t accuracy: 0.9764 \t cross entropy: 7.520615326939151e-05\n",
            "[epoch 2, iteration 8000] \t accuracy: 0.9813 \t cross entropy: 6.522172770928591e-05\n",
            "saving\n",
            "[epoch 2, iteration 10000] \t accuracy: 0.982 \t cross entropy: 5.8446548791835085e-05\n",
            "saving\n",
            "[epoch 2, iteration 12000] \t accuracy: 0.983 \t cross entropy: 5.690456964657642e-05\n",
            "saving\n",
            "[epoch 2, iteration 14000] \t accuracy: 0.9823 \t cross entropy: 6.089442831580527e-05\n",
            "[epoch 2, iteration 16000] \t accuracy: 0.9824 \t cross entropy: 6.0492347984109074e-05\n",
            "[epoch 2, iteration 18000] \t accuracy: 0.9826 \t cross entropy: 5.605064507108182e-05\n",
            "[epoch 2, iteration 20000] \t accuracy: 0.9823 \t cross entropy: 5.2934614359401166e-05\n",
            "[epoch 2, iteration 22000] \t accuracy: 0.9847 \t cross entropy: 4.976073614670895e-05\n",
            "saving\n",
            "[epoch 2, iteration 24000] \t accuracy: 0.9799 \t cross entropy: 6.52564485790208e-05\n",
            "[epoch 2, iteration 26000] \t accuracy: 0.9746 \t cross entropy: 8.584214810980484e-05\n",
            "[epoch 2, iteration 28000] \t accuracy: 0.985 \t cross entropy: 5.281978883431293e-05\n",
            "saving\n",
            "[epoch 2, iteration 30000] \t accuracy: 0.9821 \t cross entropy: 5.68546456634067e-05\n",
            "[epoch 2, iteration 32000] \t accuracy: 0.9829 \t cross entropy: 5.583805977948941e-05\n",
            "[epoch 2, iteration 34000] \t accuracy: 0.9831 \t cross entropy: 6.055456105968915e-05\n",
            "[epoch 2, iteration 36000] \t accuracy: 0.9823 \t cross entropy: 5.628204235108569e-05\n",
            "[epoch 2, iteration 38000] \t accuracy: 0.9758 \t cross entropy: 7.351424574153498e-05\n",
            "[epoch 2, iteration 40000] \t accuracy: 0.98 \t cross entropy: 6.797123933210969e-05\n",
            "[epoch 2, iteration 42000] \t accuracy: 0.9816 \t cross entropy: 6.0155805840622634e-05\n",
            "[epoch 2, iteration 44000] \t accuracy: 0.9817 \t cross entropy: 5.6164240959333256e-05\n",
            "[epoch 2, iteration 46000] \t accuracy: 0.9801 \t cross entropy: 6.818724068580195e-05\n",
            "[epoch 2, iteration 48000] \t accuracy: 0.984 \t cross entropy: 5.089247861178592e-05\n",
            "[epoch 2, iteration 50000] \t accuracy: 0.9825 \t cross entropy: 5.583695019595325e-05\n",
            "[epoch 2, iteration 52000] \t accuracy: 0.9839 \t cross entropy: 4.918530612485483e-05\n",
            "[epoch 2, iteration 54000] \t accuracy: 0.9863 \t cross entropy: 4.6571145503548905e-05\n",
            "saving\n",
            "[epoch 2, iteration 56000] \t accuracy: 0.9823 \t cross entropy: 5.806906119687483e-05\n",
            "[epoch 2, iteration 58000] \t accuracy: 0.9849 \t cross entropy: 4.6152308641467243e-05\n",
            "epoch 2 accumulated train accuracy: 0.9807666666666667\n"
          ],
          "name": "stdout"
        }
      ]
    },
    {
      "metadata": {
        "id": "BOEhGBkC0B2m",
        "colab_type": "code",
        "colab": {}
      },
      "cell_type": "code",
      "source": [
        "l5_mnist_train_cross_entropy = train_cross_entropy\n",
        "l5_mnist_train_accuracy = train_accuracy\n",
        "l5_mnist_validation_cross_entropy = validation_cross_entropy\n",
        "l5_mnist_validation_accuracy = validation_accuracy"
      ],
      "execution_count": 0,
      "outputs": []
    },
    {
      "metadata": {
        "id": "Oc6Orq7QagHc",
        "colab_type": "code",
        "colab": {}
      },
      "cell_type": "code",
      "source": [
        "import matplotlib.pyplot as plt\n",
        "import numpy as np"
      ],
      "execution_count": 0,
      "outputs": []
    },
    {
      "metadata": {
        "id": "PwG_veengfFN",
        "colab_type": "code",
        "colab": {
          "base_uri": "https://localhost:8080/",
          "height": 735
        },
        "outputId": "9e5187a4-b236-46fe-86f8-8c6bf4ae6a9d"
      },
      "cell_type": "code",
      "source": [
        "# fc_train_cross_entropy = train_cross_entropy\n",
        "# fc_train_accuracy = train_accuracy\n",
        "# fc_validation_cross_entropy = validation_cross_entropy\n",
        "# fc_validation_accuracy = validation_accuracy\n",
        "\n",
        "fc_y = np.array(fc_train_cross_entropy)[0::2000]\n",
        "fc_y.shape\n",
        "fc_y_test = np.array(fc_validation_cross_entropy)\n",
        "fc_y_test.shape\n",
        "x = np.array(list(range(0, 120000, 2000)))\n",
        "x = x / 60000\n",
        "x\n",
        "plt.plot(x, fc_y_test, label='validation cross entropy')\n",
        "plt.xlabel('epochs')\n",
        "plt.ylabel('cross entropy')\n",
        "plt.title('hw4 fully connected nn mnist validation loss')\n",
        "plt.legend()\n",
        "plt.show()\n",
        "\n",
        "plt.plot(x, fc_y, label='train cross entropy')\n",
        "plt.xlabel('epochs')\n",
        "plt.ylabel('cross entropy')\n",
        "plt.title('hw4 fully connected nn mnist train loss')\n",
        "plt.legend()\n",
        "plt.show()\n",
        "# 2000*60\n",
        "# len(mnist_train_loader)"
      ],
      "execution_count": 54,
      "outputs": [
        {
          "output_type": "display_data",
          "data": {
            "image/png": "[encoded data removed]",
            "text/plain": [
              "<Figure size 576x396 with 1 Axes>"
            ]
          },
          "metadata": {
            "tags": []
          }
        },
        {
          "output_type": "display_data",
          "data": {
            "image/png": "[encoded data removed]",
            "text/plain": [
              "<Figure size 576x396 with 1 Axes>"
            ]
          },
          "metadata": {
            "tags": []
          }
        }
      ]
    },
    {
      "metadata": {
        "id": "LhA-5rKucz6k",
        "colab_type": "code",
        "colab": {
          "base_uri": "https://localhost:8080/",
          "height": 735
        },
        "outputId": "e92be66c-b950-43e2-e1ef-fab0b8c290ab"
      },
      "cell_type": "code",
      "source": [
        "l5_y = np.array(l5_mnist_train_cross_entropy)[0::2000]\n",
        "l5_y.shape\n",
        "l5_y_test = np.array(l5_mnist_validation_cross_entropy)\n",
        "l5_y_test.shape\n",
        "x = np.array(list(range(0, 120000, 2000)))\n",
        "x = x / 60000\n",
        "x\n",
        "plt.plot(x, l5_y_test, label='validation cross entropy')\n",
        "plt.xlabel('epochs')\n",
        "plt.ylabel('cross entropy')\n",
        "plt.title('lenet5 mnist validation loss')\n",
        "plt.legend()\n",
        "plt.show()\n",
        "\n",
        "plt.plot(x, l5_y, label='train cross entropy')\n",
        "plt.xlabel('epochs')\n",
        "plt.ylabel('cross entropy')\n",
        "plt.title('lenet5 mnist train loss')\n",
        "plt.legend()\n",
        "plt.show()\n",
        "# 2000*60\n",
        "# len(mnist_train_loader)"
      ],
      "execution_count": 53,
      "outputs": [
        {
          "output_type": "display_data",
          "data": {
            "image/png": "[encoded data removed]",
            "text/plain": [
              "<Figure size 576x396 with 1 Axes>"
            ]
          },
          "metadata": {
            "tags": []
          }
        },
        {
          "output_type": "display_data",
          "data": {
            "image/png": "[encoded data removed]",
            "text/plain": [
              "<Figure size 576x396 with 1 Axes>"
            ]
          },
          "metadata": {
            "tags": []
          }
        }
      ]
    },
    {
      "metadata": {
        "id": "QSFIQpUjanAw",
        "colab_type": "code",
        "colab": {}
      },
      "cell_type": "code",
      "source": [
        "import time"
      ],
      "execution_count": 0,
      "outputs": []
    },
    {
      "metadata": {
        "id": "rqDqEAUEa8gC",
        "colab_type": "code",
        "colab": {
          "base_uri": "https://localhost:8080/",
          "height": 51
        },
        "outputId": "7a5b3880-fbe1-4d69-fd6a-13522bea2acd"
      },
      "cell_type": "code",
      "source": [
        "for x, y in mnist_test_loader:\n",
        "    x = x.to(device)\n",
        "    \n",
        "    t = time.process_time()\n",
        "    lenet5_mnist_dev.forward(x)\n",
        "    elapsed_time = time.process_time() - t\n",
        "    print(elapsed_time)\n",
        "    \n",
        "    N = x.shape[0]\n",
        "    x = x.view(N, -1)\n",
        "    \n",
        "    t = time.process_time()\n",
        "    fc_mnist_dev.forward(x)\n",
        "    elapsed_time = time.process_time() - t\n",
        "    print(elapsed_time)\n",
        "    \n",
        "    break"
      ],
      "execution_count": 35,
      "outputs": [
        {
          "output_type": "stream",
          "text": [
            "0.0011160639999161504\n",
            "0.00030915099989670125\n"
          ],
          "name": "stdout"
        }
      ]
    },
    {
      "metadata": {
        "id": "tv04jXlI8r3s",
        "colab_type": "code",
        "outputId": "052de9bc-5244-406d-abdc-6e3920ff28cb",
        "colab": {
          "base_uri": "https://localhost:8080/",
          "height": 68
        }
      },
      "cell_type": "code",
      "source": [
        "cifar100_train_loader = torch.utils.data.DataLoader(cifar100('./cifar100/train', train=True, download=True,\n",
        "                                                           transform=tv.transforms.Compose([\n",
        "                                                               tv.transforms.ToTensor()\n",
        "                                                           ])), batch_size=64, shuffle=True)\n",
        "cifar100_train_test_loader = torch.utils.data.DataLoader(cifar100('./cifar100/train', train=True, download=True,\n",
        "                                                           transform=tv.transforms.Compose([\n",
        "                                                               tv.transforms.ToTensor()\n",
        "                                                           ])), batch_size=test_batch, shuffle=True)\n",
        "cifar100_test_loader = torch.utils.data.DataLoader(cifar100('./cifar100/test', train=False, download=True,\n",
        "                                                           transform=tv.transforms.Compose([\n",
        "                                                               tv.transforms.ToTensor()\n",
        "                                                           ])), batch_size=test_batch, shuffle=True)"
      ],
      "execution_count": 20,
      "outputs": [
        {
          "output_type": "stream",
          "text": [
            "Files already downloaded and verified\n",
            "Files already downloaded and verified\n",
            "Files already downloaded and verified\n"
          ],
          "name": "stdout"
        }
      ]
    },
    {
      "metadata": {
        "id": "gWbyzczSOgiJ",
        "colab_type": "code",
        "outputId": "4d5b4b48-2d5d-4b8d-d1ba-da87698b6078",
        "colab": {
          "base_uri": "https://localhost:8080/",
          "height": 51
        }
      },
      "cell_type": "code",
      "source": [
        "print(\"cifar100\")\n",
        "print(f\"train size: {len(cifar100_train_loader) * train_batch}\\ttest size: {len(cifar100_test_loader) * test_batch}\")"
      ],
      "execution_count": 21,
      "outputs": [
        {
          "output_type": "stream",
          "text": [
            "cifar100\n",
            "train size: 782\ttest size: 10000\n"
          ],
          "name": "stdout"
        }
      ]
    },
    {
      "metadata": {
        "id": "rv_M4V-kyz_v",
        "colab_type": "code",
        "colab": {}
      },
      "cell_type": "code",
      "source": [
        "lenet5_cifar100 = createLenet5(in_channels=3, classes=100)"
      ],
      "execution_count": 0,
      "outputs": []
    },
    {
      "metadata": {
        "id": "119m63Dgz0fL",
        "colab_type": "code",
        "outputId": "3a16fbfc-8499-429d-a8ee-a160f9af3e58",
        "colab": {
          "base_uri": "https://localhost:8080/",
          "height": 979
        }
      },
      "cell_type": "code",
      "source": [
        "lenet5_cifar100_dev = lenet5_cifar100.to(device)\n",
        "opt = O.Adam(lenet5_cifar100_dev.parameters(), lr=0.001)\n",
        "criterion = nn.CrossEntropyLoss(reduction=\"mean\")\n",
        "train_cross_entropy = []\n",
        "train_accuracy = []\n",
        "validation_cross_entropy = []\n",
        "validation_accuracy = []\n",
        "\n",
        "best_model_accuracy = 0\n",
        "\n",
        "for epoch in range(50):\n",
        "    n_correct = 0\n",
        "    n_total = 0\n",
        "    for i, batch in enumerate(cifar100_train_loader):\n",
        "        x, labels = batch\n",
        "        x, labels = x.to(device), labels.to(device)\n",
        "        N = x.shape[0]\n",
        "        \n",
        "        # training mode (for things like dropout)\n",
        "        lenet5_cifar100_dev.train()\n",
        "        \n",
        "        # clear previous gradients\n",
        "        opt.zero_grad()\n",
        "        \n",
        "        y_hat = lenet5_cifar100_dev(x)\n",
        "        loss = criterion(y_hat, labels)\n",
        "        loss.backward()\n",
        "        opt.step()\n",
        "        \n",
        "        train_cross_entropy.append(loss)\n",
        "        \n",
        "        n_correct += (torch.argmax(y_hat, dim=1) == labels).sum().item()\n",
        "        n_total += N\n",
        "        \n",
        "        # evaluation mode (e.g. adds dropped neurons back in)\n",
        "        lenet5_cifar100_dev.eval()\n",
        "        if i % validate_every == 0:\n",
        "            n_val_correct = 0\n",
        "            n_val_total = 0\n",
        "            v_cross_entropy_sum = 0\n",
        "            \n",
        "            # don't calculate gradients here\n",
        "            with torch.no_grad():\n",
        "                for j, v_batch in enumerate(cifar100_test_loader):\n",
        "                    v_x, v_labels = v_batch\n",
        "                    v_x, v_labels = v_x.to(device), v_labels.to(device)\n",
        "                    v_N = v_x.shape[0]\n",
        "                    \n",
        "                    v_y_hat = lenet5_cifar100_dev(v_x)\n",
        "                    v_loss = criterion(v_y_hat, v_labels)\n",
        "                    v_cross_entropy_sum += v_loss\n",
        "                    n_val_correct += (torch.argmax(v_y_hat, dim=1) == v_labels).sum().item()\n",
        "                    n_val_total += v_N\n",
        "\n",
        "            print(f\"[epoch {epoch + 1}, iteration {i}] \\t accuracy: {n_val_correct / n_val_total} \\t cross entropy: {v_cross_entropy_sum / n_val_total}\")\n",
        "            validation_accuracy.append(n_val_correct / n_val_total)\n",
        "            validation_cross_entropy.append(v_cross_entropy_sum / n_val_total)\n",
        "            if n_val_correct / n_val_total >= best_model_accuracy:\n",
        "                best_model_accuracy = n_val_correct / n_val_total\n",
        "                print(\"saving\")\n",
        "                torch.save(lenet5_cifar100_dev.state_dict(), './lenet5_cifar100')\n",
        "    \n",
        "    print(f\"epoch {epoch + 1} accumulated train accuracy: {n_correct / n_total}\")\n",
        "    train_accuracy.append(n_correct / n_total)"
      ],
      "execution_count": 23,
      "outputs": [
        {
          "output_type": "stream",
          "text": [
            "[epoch 1, iteration 0] \t accuracy: 0.0119 \t cross entropy: 0.004607115872204304\n",
            "saving\n"
          ],
          "name": "stdout"
        },
        {
          "output_type": "error",
          "ename": "KeyboardInterrupt",
          "evalue": "ignored",
          "traceback": [
            "\u001b[0;31m---------------------------------------------------------------------------\u001b[0m",
            "\u001b[0;31mKeyboardInterrupt\u001b[0m                         Traceback (most recent call last)",
            "\u001b[0;32m<ipython-input-23-a2cfe77ae8ea>\u001b[0m in \u001b[0;36m<module>\u001b[0;34m()\u001b[0m\n\u001b[1;32m     12\u001b[0m     \u001b[0mn_correct\u001b[0m \u001b[0;34m=\u001b[0m \u001b[0;36m0\u001b[0m\u001b[0;34m\u001b[0m\u001b[0;34m\u001b[0m\u001b[0m\n\u001b[1;32m     13\u001b[0m     \u001b[0mn_total\u001b[0m \u001b[0;34m=\u001b[0m \u001b[0;36m0\u001b[0m\u001b[0;34m\u001b[0m\u001b[0;34m\u001b[0m\u001b[0m\n\u001b[0;32m---> 14\u001b[0;31m     \u001b[0;32mfor\u001b[0m \u001b[0mi\u001b[0m\u001b[0;34m,\u001b[0m \u001b[0mbatch\u001b[0m \u001b[0;32min\u001b[0m \u001b[0menumerate\u001b[0m\u001b[0;34m(\u001b[0m\u001b[0mcifar100_train_loader\u001b[0m\u001b[0;34m)\u001b[0m\u001b[0;34m:\u001b[0m\u001b[0;34m\u001b[0m\u001b[0;34m\u001b[0m\u001b[0m\n\u001b[0m\u001b[1;32m     15\u001b[0m         \u001b[0mx\u001b[0m\u001b[0;34m,\u001b[0m \u001b[0mlabels\u001b[0m \u001b[0;34m=\u001b[0m \u001b[0mbatch\u001b[0m\u001b[0;34m\u001b[0m\u001b[0;34m\u001b[0m\u001b[0m\n\u001b[1;32m     16\u001b[0m         \u001b[0mx\u001b[0m\u001b[0;34m,\u001b[0m \u001b[0mlabels\u001b[0m \u001b[0;34m=\u001b[0m \u001b[0mx\u001b[0m\u001b[0;34m.\u001b[0m\u001b[0mto\u001b[0m\u001b[0;34m(\u001b[0m\u001b[0mdevice\u001b[0m\u001b[0;34m)\u001b[0m\u001b[0;34m,\u001b[0m \u001b[0mlabels\u001b[0m\u001b[0;34m.\u001b[0m\u001b[0mto\u001b[0m\u001b[0;34m(\u001b[0m\u001b[0mdevice\u001b[0m\u001b[0;34m)\u001b[0m\u001b[0;34m\u001b[0m\u001b[0;34m\u001b[0m\u001b[0m\n",
            "\u001b[0;32m/usr/local/lib/python3.6/dist-packages/torch/utils/data/dataloader.py\u001b[0m in \u001b[0;36m__next__\u001b[0;34m(self)\u001b[0m\n\u001b[1;32m    613\u001b[0m         \u001b[0;32mif\u001b[0m \u001b[0mself\u001b[0m\u001b[0;34m.\u001b[0m\u001b[0mnum_workers\u001b[0m \u001b[0;34m==\u001b[0m \u001b[0;36m0\u001b[0m\u001b[0;34m:\u001b[0m  \u001b[0;31m# same-process loading\u001b[0m\u001b[0;34m\u001b[0m\u001b[0;34m\u001b[0m\u001b[0m\n\u001b[1;32m    614\u001b[0m             \u001b[0mindices\u001b[0m \u001b[0;34m=\u001b[0m \u001b[0mnext\u001b[0m\u001b[0;34m(\u001b[0m\u001b[0mself\u001b[0m\u001b[0;34m.\u001b[0m\u001b[0msample_iter\u001b[0m\u001b[0;34m)\u001b[0m  \u001b[0;31m# may raise StopIteration\u001b[0m\u001b[0;34m\u001b[0m\u001b[0;34m\u001b[0m\u001b[0m\n\u001b[0;32m--> 615\u001b[0;31m             \u001b[0mbatch\u001b[0m \u001b[0;34m=\u001b[0m \u001b[0mself\u001b[0m\u001b[0;34m.\u001b[0m\u001b[0mcollate_fn\u001b[0m\u001b[0;34m(\u001b[0m\u001b[0;34m[\u001b[0m\u001b[0mself\u001b[0m\u001b[0;34m.\u001b[0m\u001b[0mdataset\u001b[0m\u001b[0;34m[\u001b[0m\u001b[0mi\u001b[0m\u001b[0;34m]\u001b[0m \u001b[0;32mfor\u001b[0m \u001b[0mi\u001b[0m \u001b[0;32min\u001b[0m \u001b[0mindices\u001b[0m\u001b[0;34m]\u001b[0m\u001b[0;34m)\u001b[0m\u001b[0;34m\u001b[0m\u001b[0;34m\u001b[0m\u001b[0m\n\u001b[0m\u001b[1;32m    616\u001b[0m             \u001b[0;32mif\u001b[0m \u001b[0mself\u001b[0m\u001b[0;34m.\u001b[0m\u001b[0mpin_memory\u001b[0m\u001b[0;34m:\u001b[0m\u001b[0;34m\u001b[0m\u001b[0;34m\u001b[0m\u001b[0m\n\u001b[1;32m    617\u001b[0m                 \u001b[0mbatch\u001b[0m \u001b[0;34m=\u001b[0m \u001b[0mpin_memory_batch\u001b[0m\u001b[0;34m(\u001b[0m\u001b[0mbatch\u001b[0m\u001b[0;34m)\u001b[0m\u001b[0;34m\u001b[0m\u001b[0;34m\u001b[0m\u001b[0m\n",
            "\u001b[0;32m/usr/local/lib/python3.6/dist-packages/torch/utils/data/dataloader.py\u001b[0m in \u001b[0;36m<listcomp>\u001b[0;34m(.0)\u001b[0m\n\u001b[1;32m    613\u001b[0m         \u001b[0;32mif\u001b[0m \u001b[0mself\u001b[0m\u001b[0;34m.\u001b[0m\u001b[0mnum_workers\u001b[0m \u001b[0;34m==\u001b[0m \u001b[0;36m0\u001b[0m\u001b[0;34m:\u001b[0m  \u001b[0;31m# same-process loading\u001b[0m\u001b[0;34m\u001b[0m\u001b[0;34m\u001b[0m\u001b[0m\n\u001b[1;32m    614\u001b[0m             \u001b[0mindices\u001b[0m \u001b[0;34m=\u001b[0m \u001b[0mnext\u001b[0m\u001b[0;34m(\u001b[0m\u001b[0mself\u001b[0m\u001b[0;34m.\u001b[0m\u001b[0msample_iter\u001b[0m\u001b[0;34m)\u001b[0m  \u001b[0;31m# may raise StopIteration\u001b[0m\u001b[0;34m\u001b[0m\u001b[0;34m\u001b[0m\u001b[0m\n\u001b[0;32m--> 615\u001b[0;31m             \u001b[0mbatch\u001b[0m \u001b[0;34m=\u001b[0m \u001b[0mself\u001b[0m\u001b[0;34m.\u001b[0m\u001b[0mcollate_fn\u001b[0m\u001b[0;34m(\u001b[0m\u001b[0;34m[\u001b[0m\u001b[0mself\u001b[0m\u001b[0;34m.\u001b[0m\u001b[0mdataset\u001b[0m\u001b[0;34m[\u001b[0m\u001b[0mi\u001b[0m\u001b[0;34m]\u001b[0m \u001b[0;32mfor\u001b[0m \u001b[0mi\u001b[0m \u001b[0;32min\u001b[0m \u001b[0mindices\u001b[0m\u001b[0;34m]\u001b[0m\u001b[0;34m)\u001b[0m\u001b[0;34m\u001b[0m\u001b[0;34m\u001b[0m\u001b[0m\n\u001b[0m\u001b[1;32m    616\u001b[0m             \u001b[0;32mif\u001b[0m \u001b[0mself\u001b[0m\u001b[0;34m.\u001b[0m\u001b[0mpin_memory\u001b[0m\u001b[0;34m:\u001b[0m\u001b[0;34m\u001b[0m\u001b[0;34m\u001b[0m\u001b[0m\n\u001b[1;32m    617\u001b[0m                 \u001b[0mbatch\u001b[0m \u001b[0;34m=\u001b[0m \u001b[0mpin_memory_batch\u001b[0m\u001b[0;34m(\u001b[0m\u001b[0mbatch\u001b[0m\u001b[0;34m)\u001b[0m\u001b[0;34m\u001b[0m\u001b[0;34m\u001b[0m\u001b[0m\n",
            "\u001b[0;32m/usr/local/lib/python3.6/dist-packages/torchvision/datasets/cifar.py\u001b[0m in \u001b[0;36m__getitem__\u001b[0;34m(self, index)\u001b[0m\n\u001b[1;32m    119\u001b[0m \u001b[0;34m\u001b[0m\u001b[0m\n\u001b[1;32m    120\u001b[0m         \u001b[0;32mif\u001b[0m \u001b[0mself\u001b[0m\u001b[0;34m.\u001b[0m\u001b[0mtransform\u001b[0m \u001b[0;32mis\u001b[0m \u001b[0;32mnot\u001b[0m \u001b[0;32mNone\u001b[0m\u001b[0;34m:\u001b[0m\u001b[0;34m\u001b[0m\u001b[0;34m\u001b[0m\u001b[0m\n\u001b[0;32m--> 121\u001b[0;31m             \u001b[0mimg\u001b[0m \u001b[0;34m=\u001b[0m \u001b[0mself\u001b[0m\u001b[0;34m.\u001b[0m\u001b[0mtransform\u001b[0m\u001b[0;34m(\u001b[0m\u001b[0mimg\u001b[0m\u001b[0;34m)\u001b[0m\u001b[0;34m\u001b[0m\u001b[0;34m\u001b[0m\u001b[0m\n\u001b[0m\u001b[1;32m    122\u001b[0m \u001b[0;34m\u001b[0m\u001b[0m\n\u001b[1;32m    123\u001b[0m         \u001b[0;32mif\u001b[0m \u001b[0mself\u001b[0m\u001b[0;34m.\u001b[0m\u001b[0mtarget_transform\u001b[0m \u001b[0;32mis\u001b[0m \u001b[0;32mnot\u001b[0m \u001b[0;32mNone\u001b[0m\u001b[0;34m:\u001b[0m\u001b[0;34m\u001b[0m\u001b[0;34m\u001b[0m\u001b[0m\n",
            "\u001b[0;32m/usr/local/lib/python3.6/dist-packages/torchvision/transforms/transforms.py\u001b[0m in \u001b[0;36m__call__\u001b[0;34m(self, img)\u001b[0m\n\u001b[1;32m     47\u001b[0m     \u001b[0;32mdef\u001b[0m \u001b[0m__call__\u001b[0m\u001b[0;34m(\u001b[0m\u001b[0mself\u001b[0m\u001b[0;34m,\u001b[0m \u001b[0mimg\u001b[0m\u001b[0;34m)\u001b[0m\u001b[0;34m:\u001b[0m\u001b[0;34m\u001b[0m\u001b[0;34m\u001b[0m\u001b[0m\n\u001b[1;32m     48\u001b[0m         \u001b[0;32mfor\u001b[0m \u001b[0mt\u001b[0m \u001b[0;32min\u001b[0m \u001b[0mself\u001b[0m\u001b[0;34m.\u001b[0m\u001b[0mtransforms\u001b[0m\u001b[0;34m:\u001b[0m\u001b[0;34m\u001b[0m\u001b[0;34m\u001b[0m\u001b[0m\n\u001b[0;32m---> 49\u001b[0;31m             \u001b[0mimg\u001b[0m \u001b[0;34m=\u001b[0m \u001b[0mt\u001b[0m\u001b[0;34m(\u001b[0m\u001b[0mimg\u001b[0m\u001b[0;34m)\u001b[0m\u001b[0;34m\u001b[0m\u001b[0;34m\u001b[0m\u001b[0m\n\u001b[0m\u001b[1;32m     50\u001b[0m         \u001b[0;32mreturn\u001b[0m \u001b[0mimg\u001b[0m\u001b[0;34m\u001b[0m\u001b[0;34m\u001b[0m\u001b[0m\n\u001b[1;32m     51\u001b[0m \u001b[0;34m\u001b[0m\u001b[0m\n",
            "\u001b[0;32m/usr/local/lib/python3.6/dist-packages/torchvision/transforms/transforms.py\u001b[0m in \u001b[0;36m__call__\u001b[0;34m(self, pic)\u001b[0m\n\u001b[1;32m     74\u001b[0m             \u001b[0mTensor\u001b[0m\u001b[0;34m:\u001b[0m \u001b[0mConverted\u001b[0m \u001b[0mimage\u001b[0m\u001b[0;34m.\u001b[0m\u001b[0;34m\u001b[0m\u001b[0;34m\u001b[0m\u001b[0m\n\u001b[1;32m     75\u001b[0m         \"\"\"\n\u001b[0;32m---> 76\u001b[0;31m         \u001b[0;32mreturn\u001b[0m \u001b[0mF\u001b[0m\u001b[0;34m.\u001b[0m\u001b[0mto_tensor\u001b[0m\u001b[0;34m(\u001b[0m\u001b[0mpic\u001b[0m\u001b[0;34m)\u001b[0m\u001b[0;34m\u001b[0m\u001b[0;34m\u001b[0m\u001b[0m\n\u001b[0m\u001b[1;32m     77\u001b[0m \u001b[0;34m\u001b[0m\u001b[0m\n\u001b[1;32m     78\u001b[0m     \u001b[0;32mdef\u001b[0m \u001b[0m__repr__\u001b[0m\u001b[0;34m(\u001b[0m\u001b[0mself\u001b[0m\u001b[0;34m)\u001b[0m\u001b[0;34m:\u001b[0m\u001b[0;34m\u001b[0m\u001b[0;34m\u001b[0m\u001b[0m\n",
            "\u001b[0;32m/usr/local/lib/python3.6/dist-packages/torchvision/transforms/functional.py\u001b[0m in \u001b[0;36mto_tensor\u001b[0;34m(pic)\u001b[0m\n\u001b[1;32m     68\u001b[0m         \u001b[0mimg\u001b[0m \u001b[0;34m=\u001b[0m \u001b[0;36m255\u001b[0m \u001b[0;34m*\u001b[0m \u001b[0mtorch\u001b[0m\u001b[0;34m.\u001b[0m\u001b[0mfrom_numpy\u001b[0m\u001b[0;34m(\u001b[0m\u001b[0mnp\u001b[0m\u001b[0;34m.\u001b[0m\u001b[0marray\u001b[0m\u001b[0;34m(\u001b[0m\u001b[0mpic\u001b[0m\u001b[0;34m,\u001b[0m \u001b[0mnp\u001b[0m\u001b[0;34m.\u001b[0m\u001b[0muint8\u001b[0m\u001b[0;34m,\u001b[0m \u001b[0mcopy\u001b[0m\u001b[0;34m=\u001b[0m\u001b[0;32mFalse\u001b[0m\u001b[0;34m)\u001b[0m\u001b[0;34m)\u001b[0m\u001b[0;34m\u001b[0m\u001b[0;34m\u001b[0m\u001b[0m\n\u001b[1;32m     69\u001b[0m     \u001b[0;32melse\u001b[0m\u001b[0;34m:\u001b[0m\u001b[0;34m\u001b[0m\u001b[0;34m\u001b[0m\u001b[0m\n\u001b[0;32m---> 70\u001b[0;31m         \u001b[0mimg\u001b[0m \u001b[0;34m=\u001b[0m \u001b[0mtorch\u001b[0m\u001b[0;34m.\u001b[0m\u001b[0mByteTensor\u001b[0m\u001b[0;34m(\u001b[0m\u001b[0mtorch\u001b[0m\u001b[0;34m.\u001b[0m\u001b[0mByteStorage\u001b[0m\u001b[0;34m.\u001b[0m\u001b[0mfrom_buffer\u001b[0m\u001b[0;34m(\u001b[0m\u001b[0mpic\u001b[0m\u001b[0;34m.\u001b[0m\u001b[0mtobytes\u001b[0m\u001b[0;34m(\u001b[0m\u001b[0;34m)\u001b[0m\u001b[0;34m)\u001b[0m\u001b[0;34m)\u001b[0m\u001b[0;34m\u001b[0m\u001b[0;34m\u001b[0m\u001b[0m\n\u001b[0m\u001b[1;32m     71\u001b[0m     \u001b[0;31m# PIL image mode: L, P, I, F, RGB, YCbCr, RGBA, CMYK\u001b[0m\u001b[0;34m\u001b[0m\u001b[0;34m\u001b[0m\u001b[0;34m\u001b[0m\u001b[0m\n\u001b[1;32m     72\u001b[0m     \u001b[0;32mif\u001b[0m \u001b[0mpic\u001b[0m\u001b[0;34m.\u001b[0m\u001b[0mmode\u001b[0m \u001b[0;34m==\u001b[0m \u001b[0;34m'YCbCr'\u001b[0m\u001b[0;34m:\u001b[0m\u001b[0;34m\u001b[0m\u001b[0;34m\u001b[0m\u001b[0m\n",
            "\u001b[0;31mKeyboardInterrupt\u001b[0m: "
          ]
        }
      ]
    },
    {
      "metadata": {
        "id": "3pbOJKhdBCzd",
        "colab_type": "code",
        "colab": {}
      },
      "cell_type": "code",
      "source": [
        "net = createLenet5(3, classes=100)\n",
        "net.load_state_dict(torch.load('./lenet5_cifar100'))"
      ],
      "execution_count": 0,
      "outputs": []
    },
    {
      "metadata": {
        "id": "w6mvidsBBy8r",
        "colab_type": "code",
        "colab": {}
      },
      "cell_type": "code",
      "source": [
        "import cv2"
      ],
      "execution_count": 0,
      "outputs": []
    },
    {
      "metadata": {
        "id": "ZyOAhrzCB0hc",
        "colab_type": "code",
        "colab": {}
      },
      "cell_type": "code",
      "source": [
        "for img, label in cifar100_train_loader:\n",
        "    cv2.imshow('work', img.numpy())\n",
        "    break"
      ],
      "execution_count": 0,
      "outputs": []
    }
  ]
}